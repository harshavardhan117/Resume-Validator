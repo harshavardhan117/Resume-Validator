{
  "nbformat": 4,
  "nbformat_minor": 0,
  "metadata": {
    "colab": {
      "name": "Reviews calculator",
      "provenance": [],
      "collapsed_sections": []
    },
    "kernelspec": {
      "name": "python3",
      "display_name": "Python 3"
    }
  },
  "cells": [
    {
      "cell_type": "markdown",
      "metadata": {
        "id": "VwK5-9FIB-lu"
      },
      "source": [
        "# Natural Language Processing"
      ]
    },
    {
      "cell_type": "markdown",
      "metadata": {
        "id": "X1kiO9kACE6s"
      },
      "source": [
        "## Importing the libraries"
      ]
    },
    {
      "cell_type": "code",
      "metadata": {
        "id": "7QG7sxmoCIvN"
      },
      "source": [
        "import numpy as np\n",
        "import matplotlib.pyplot as plt\n",
        "import pandas as pd"
      ],
      "execution_count": null,
      "outputs": []
    },
    {
      "cell_type": "markdown",
      "metadata": {
        "id": "wTfaCIzdCLPA"
      },
      "source": [
        "## Importing the dataset"
      ]
    },
    {
      "cell_type": "code",
      "metadata": {
        "id": "UCK6vQ5QCQJe"
      },
      "source": [
        "dataset1 = pd.read_csv('training_dataset.csv', )"
      ],
      "execution_count": null,
      "outputs": []
    },
    {
      "cell_type": "code",
      "metadata": {
        "id": "rjF4ZFhh8dD2"
      },
      "source": [
        "dataset2=pd.read_csv('fresh_stock.csv')\n",
        "x2 = dataset2.iloc[:, -1].values"
      ],
      "execution_count": null,
      "outputs": []
    },
    {
      "cell_type": "code",
      "metadata": {
        "id": "yrpfcfrGCTL_"
      },
      "source": [
        "print(x2)"
      ],
      "execution_count": null,
      "outputs": []
    },
    {
      "cell_type": "markdown",
      "metadata": {
        "id": "TkixEDtAETtj"
      },
      "source": [
        "#Cleaning the texts"
      ]
    },
    {
      "cell_type": "code",
      "metadata": {
        "colab": {
          "base_uri": "https://localhost:8080/"
        },
        "id": "xoVhMi9hENv2",
        "outputId": "74bae5ab-f732-44f2-8bbd-3aa53028dca1"
      },
      "source": [
        "import re\n",
        "import nltk\n",
        "nltk.download('stopwords')\n",
        "from nltk.corpus import stopwords\n",
        "from nltk.stem.porter import PorterStemmer\n",
        "corpus = []\n",
        "for i in range(0, 1479):\n",
        "  review = re.sub('[^a-zA-Z]', ' ', dataset1['Review'][i])\n",
        "  review = review.lower()\n",
        "  review = review.split()\n",
        "  ps = PorterStemmer()\n",
        "  all_stopwords = stopwords.words('english')\n",
        "  all_stopwords.remove('not')\n",
        "  review = [ps.stem(word) for word in review if not word in set(all_stopwords)]\n",
        "  review = ' '.join(review)\n",
        "  corpus.append(review)"
      ],
      "execution_count": null,
      "outputs": [
        {
          "output_type": "stream",
          "text": [
            "[nltk_data] Downloading package stopwords to /root/nltk_data...\n",
            "[nltk_data]   Package stopwords is already up-to-date!\n"
          ],
          "name": "stdout"
        }
      ]
    },
    {
      "cell_type": "code",
      "metadata": {
        "colab": {
          "base_uri": "https://localhost:8080/"
        },
        "id": "gLU3VlvVEqAk",
        "outputId": "2616a5f2-1d9a-4298-d244-ecde64224eee"
      },
      "source": [
        "print(corpus)"
      ],
      "execution_count": null,
      "outputs": [
        {
          "output_type": "stream",
          "text": [
            "['wow love place', 'crust not good', 'not tasti textur nasti', 'stop late may bank holiday rick steve recommend love', 'select menu great price', 'get angri want damn pho', 'honeslti tast fresh', 'potato like rubber could tell made ahead time kept warmer', 'fri great', 'great touch', 'servic prompt', 'would not go back', 'cashier care ever say still end wayyy overpr', 'tri cape cod ravoli chicken cranberri mmmm', 'disgust pretti sure human hair', 'shock sign indic cash', 'highli recommend', 'waitress littl slow servic', 'place not worth time let alon vega', 'not like', 'burritto blah', 'food amaz', 'servic also cute', 'could care less interior beauti', 'perform', 'right red velvet cake ohhh stuff good', 'hole wall great mexican street taco friendli staff', 'took hour get food tabl restaur food luke warm sever run around like total overwhelm', 'worst salmon sashimi', 'also combo like burger fri beer decent deal', 'like final blow', 'found place accid could not happier', 'seem like good quick place grab bite familiar pub food favor look elsewher', 'overal like place lot', 'redeem qualiti restaur inexpens', 'ampl portion good price', 'poor servic waiter made feel like stupid everi time came tabl', 'first visit hiro delight', 'servic suck', 'shrimp tender moist', 'not deal good enough would drag establish', 'hard judg whether side good gross melt styrofoam want eat fear get sick', 'posit note server attent provid great servic', 'frozen puck disgust worst peopl behind regist', 'thing like prime rib dessert section', 'bad food damn gener', 'burger good beef cook right', 'want sandwich go firehous', 'side greek salad greek dress tasti pita hummu refresh', 'order duck rare pink tender insid nice char outsid', 'came run us realiz husband left sunglass tabl', 'chow mein good', 'horribl attitud toward custom talk one custom enjoy food', 'portion huge', 'love friendli server great food wonder imagin menu', 'heart attack grill downtown vega absolut flat line excus restaur', 'not much seafood like string pasta bottom', 'salad right amount sauc not power scallop perfectli cook', 'rip banana not rip petrifi tasteless', 'least think refil water struggl wave minut', 'place receiv star appet', 'cocktail handmad delici', 'definit go back', 'glad found place', 'great food servic huge portion give militari discount', 'alway great time do gringo', 'updat went back second time still amaz', 'got food appar never heard salt batter fish chewi', 'great way finish great', 'deal includ tast drink jeff went beyond expect', 'servic meh', 'took min get milkshak noth chocol milk', 'guess known place would suck insid excalibur use common sens', 'scallop dish quit appal valu well', 'time bad custom servic', 'sweet potato fri good season well', 'today second time lunch buffet pretti good', 'much good food vega feel cheat wast eat opportun go rice compani', 'come like experienc underwhelm relationship parti wait person ask break', 'walk place smell like old greas trap other eat', 'turkey roast beef bland', 'place', 'pan cake everyon rave tast like sugari disast tailor palat six year old', 'love pho spring roll oh yummi tri', 'poor batter meat ratio made chicken tender unsatisfi', 'say food amaz', 'omelet die', 'everyth fresh delici', 'summari larg disappoint dine experi', 'like realli sexi parti mouth outrag flirt hottest person parti', 'never hard rock casino never ever step forward', 'best breakfast buffet', 'say bye bye tip ladi', 'never go', 'back', 'food arriv quickli', 'not good', 'side cafe serv realli good food', 'server fantast found wife love roast garlic bone marrow ad extra meal anoth marrow go', 'good thing waiter help kept bloddi mari come', 'best buffet town price cannot beat', 'love mussel cook wine reduct duck tender potato dish delici', 'one better buffet', 'went tigerlilli fantast afternoon', 'food delici bartend attent person got great deal', 'ambienc wonder music play', 'go back next trip', 'sooooo good', 'real sushi lover let honest yama not good', 'least min pass us order food arriv busi', 'realli fantast thai restaur definit worth visit', 'nice spici tender', 'good price', 'check', 'pretti gross', 'better atmospher', 'kind hard mess steak', 'although much like look sound place actual experi bit disappoint', 'know place manag serv blandest food ever eaten prepar indian cuisin', 'worst servic boot least worri', 'servic fine waitress friendli', 'guy steak steak love son steak best worst place said best steak ever eaten', 'thought ventur away get good sushi place realli hit spot night', 'host staff lack better word bitch', 'bland not like place number reason want wast time bad review leav', 'phenomen food servic ambianc', 'return', 'definit worth ventur strip pork belli return next time vega', 'place way overpr mediocr food', 'penn vodka excel', 'good select food includ massiv meatloaf sandwich crispi chicken wrap delish tuna melt tasti burger', 'manag rude', 'delici nyc bagel good select cream chees real lox caper even', 'great subway fact good come everi subway not meet expect', 'serious solid breakfast', 'one best bar food vega', 'extrem rude realli mani restaur would love dine weekend vega', 'drink never empti made realli great menu suggest', '', 'waiter help friendli rare check us', 'husband ate lunch disappoint food servic', 'red curri much bamboo shoot tasti', 'nice blanket moz top feel like done cover subpar food', 'bathroom clean place well decor', 'menu alway chang food qualiti go servic extrem slow', 'servic littl slow consid serv peopl server food come slow pace', 'give thumb', 'watch waiter pay lot attent tabl ignor us', 'fianc came middl day greet seat right away', 'great restaur mandalay bay', 'wait forti five minut vain', 'crostini came salad stale', 'highlight great qualiti nigiri', 'staff friendli joint alway clean', 'differ cut piec day still wonder tender well well flavor', 'order voodoo pasta first time realli excel pasta sinc go gluten free sever year ago', 'place good', 'unfortun must hit bakeri leftov day everyth order stale', 'came back today sinc reloc still not impress', 'seat immedi', 'menu divers reason price', 'avoid cost', 'restaur alway full never wait', 'delici', 'place hand one best place eat phoenix metro area', 'go look good food', 'never treat bad', 'bacon hella salti', 'also order spinach avocado salad ingredi sad dress liter zero tast', 'realli vega fine dine use right menu hand ladi price list', 'waitress friendli', 'lordi khao soi dish not miss curri lover', 'everyth menu terrif also thrill made amaz accommod vegetarian daughter', 'perhap caught night judg review not inspir go back', 'servic leav lot desir', 'atmospher modern hip maintain touch cozi', 'not weekli haunt definit place come back everi', 'liter sat minut one ask take order', 'burger absolut flavor meat total bland burger overcook charcoal flavor', 'also decid not send back waitress look like verg heart attack', 'dress treat rude', 'probabl dirt', 'love place hit spot want someth healthi not lack quantiti flavor', 'order lemon raspberri ice cocktail also incred', 'food suck expect suck could imagin', 'interest decor', 'realli like crepe station', 'also serv hot bread butter home made potato chip bacon bit top origin good', 'watch prepar delici food', 'egg roll fantast', 'order arriv one gyro miss', 'salad wing ice cream dessert left feel quit satisfi', 'not realli sure joey vote best hot dog valley reader phoenix magazin', 'best place go tasti bowl pho', 'live music friday total blow', 'never insult felt disrespect', 'friendli staff', 'worth drive', 'heard good thing place exceed everi hope could dream', 'food great serivc', 'warm beer help', 'great brunch spot', 'servic friendli invit', 'good lunch spot', 'live sinc first last time step foot place', 'worst experi ever', 'must night place', 'side delish mix mushroom yukon gold pure white corn beateou', 'bug never show would given sure side wall bug climb kitchen', 'minut wait salad realiz come time soon', 'friend love salmon tartar', 'go back', 'extrem tasti', 'waitress good though', 'soggi not good', 'jamaican mojito delici', 'small not worth price', 'shower area outsid rins not take full shower unless mind nude everyon see', 'servic bit lack', 'lobster bisqu bussel sprout risotto filet need salt pepper cours none tabl', 'hope bode go busi someon cook come', 'either cold not enough flavor bad', 'love bacon wrap date', 'unbeliev bargain', 'folk otto alway make us feel welcom special', 'main also uninspir', 'place first pho amaz', 'wonder experi made place must stop whenev town', 'food bad enough enjoy deal world worst annoy drunk peopl', 'fun chef', 'order doubl cheeseburg got singl patti fall apart pictur upload yeah still suck', 'great place coupl drink watch sport event wall cover tv', 'possibl give zero star', 'descript said yum yum sauc anoth said eel sauc yet anoth said spici mayo well none roll sauc', 'say would hardest decis honestli dish tast suppos tast amaz', 'not roll eye may stay not sure go back tri', 'everyon attent provid excel custom servic', 'horribl wast time money', 'dish quit flavour', 'time side restaur almost empti excus', 'busi either also build freez cold', 'like review said pay eat place', 'drink took close minut come one point', 'serious flavor delight folk', 'much better ayc sushi place went vega', 'light dark enough set mood', 'base sub par servic receiv effort show gratitud busi go back', 'owner realli great peopl', 'noth privileg work eat', 'greek dress creami flavor', 'overal think would take parent place made similar complaint silent felt', 'pizza good peanut sauc tasti', 'tabl servic pretti fast', 'fantast servic', 'well would given godfath zero star possibl', 'know make', 'tough short flavor', 'hope place stick around', 'bar vega not ever recal charg tap water', 'restaur atmospher exquisit', 'good servic clean inexpens boot', 'seafood fresh gener portion', 'plu buck', 'servic not par either', 'thu far visit twice food absolut delici time', 'good year ago', 'self proclaim coffe cafe wildli disappoint', 'veggitarian platter world', 'cant go wrong food', 'beat', 'stop place madison ironman friendli kind staff', 'chef friendli good job', 'better not dedic boba tea spot even jenni pho', 'like patio servic outstand', 'goat taco skimp meat wow flavor', 'think not', 'mac salad pretti bland not get', 'went bachi burger friend recommend not disappoint', 'servic stink', 'wait wait', 'place not qualiti sushi not qualiti restaur', 'would definit recommend wing well pizza', 'great pizza salad', 'thing went wrong burn saganaki', 'wait hour breakfast could done time better home', 'place amaz', 'hate disagre fellow yelper husband disappoint place', 'wait hour never got either pizza mani around us came later', 'know slow', 'staff great food delish incred beer select', 'live neighborhood disappoint back conveni locat', 'know pull pork could soooo delici', 'get incred fresh fish prepar care', 'go gave star rate pleas know third time eat bachi burger write review', 'love fact everyth menu worth', 'never dine place', 'food excel servic good', 'good beer drink select good food select', 'pleas stay away shrimp stir fri noodl', 'potato chip order sad could probabl count mani chip box probabl around', 'food realli bore', 'good servic check', 'greedi corpor never see anoth dime', 'never ever go back', 'much like go back get pass atroci servic never return', 'summer dine charm outdoor patio delight', 'not expect good', 'fantast food', 'order toast english muffin came untoast', 'food good', 'never go back', 'great food price high qualiti hous made', 'bu boy hand rude', 'point friend basic figur place joke mind make publicli loudli known', 'back good bbq lighter fare reason price tell public back old way', 'consid two us left full happi go wrong', 'bread made hous', 'downsid servic', 'also fri without doubt worst fri ever', 'servic except food good review', 'coupl month later return amaz meal', 'favorit place town shawarrrrrrma', 'black eye pea sweet potato unreal', 'disappoint', 'could serv vinaigrett may make better overal dish still good', 'go far mani place never seen restaur serv egg breakfast especi', 'mom got home immedi got sick bite salad', 'server not pleasant deal alway honor pizza hut coupon', 'truli unbeliev good glad went back', 'fantast servic pleas atmospher', 'everyth gross', 'love place', 'great servic food', 'first bathroom locat dirti seat cover not replenish plain yucki', 'burger got gold standard burger kind disappoint', 'omg food delicioso', 'noth authent place', 'spaghetti noth special whatsoev', 'dish salmon best great', 'veget fresh sauc feel like authent thai', 'worth drive tucson', 'select probabl worst seen vega none', 'pretti good beer select', 'place like chipotl better', 'classi warm atmospher fun fresh appet succul steak basebal steak', 'star brick oven bread app', 'eaten multipl time time food delici', 'sat anoth ten minut final gave left', 'terribl', 'everyon treat equal special', 'take min pancak egg', 'delici', 'good side staff genuin pleasant enthusiast real treat', 'sadli gordon ramsey steak place shall sharpli avoid next trip vega', 'alway even wonder food delici', 'best fish ever life', 'bathroom next door nice', 'buffet small food offer bland', 'outstand littl restaur best food ever tast', 'pretti cool would say', 'definit turn doubt back unless someon els buy', 'server great job handl larg rowdi tabl', 'find wast food despic food', 'wife lobster bisqu soup lukewarm', 'would come back sushi crave vega', 'staff great ambianc great', 'deserv star', 'left stomach ach felt sick rest day', 'drop ball', 'dine space tini elegantli decor comfort', 'custom order way like usual eggplant green bean stir fri love', 'bean rice mediocr best', 'best taco town far', 'took back money got outta', 'interest part town place amaz', 'rude inconsider manag', 'staff not friendli wait time serv horribl one even say hi first minut', 'back', 'great dinner', 'servic outshin definit recommend halibut', 'food terribl', 'never ever go back told mani peopl happen', 'recommend unless car break front starv', 'come back everi time vega', 'place deserv one star food', 'disgrac', 'def come back bowl next time', 'want healthi authent ethic food tri place', 'continu come ladi night andddd date night highli recommend place anyon area', 'sever time past experi alway great', 'walk away stuf happi first vega buffet experi', 'servic excel price pretti reason consid vega locat insid crystal shop mall aria', 'summar food incred nay transcend noth bring joy quit like memori pneumat condiment dispens', 'probabl one peopl ever go ian not like', 'kid pizza alway hit lot great side dish option kiddo', 'servic perfect famili atmospher nice see', 'cook perfect servic impecc', 'one simpli disappoint', 'overal disappoint qualiti food bouchon', 'account know get screw', 'great place eat remind littl mom pop shop san francisco bay area', 'today first tast buldogi gourmet hot dog tell ever thought possibl', 'left frustrat', 'definit soon', 'food realli good got full petti fast', 'servic fantast', 'total wast time', 'know kind best ice tea', 'come hungri leav happi stuf', 'servic give star', 'assur disappoint', 'take littl bad servic food suck', 'gave tri eat crust teeth still sore', 'complet gross', 'realli enjoy eat', 'first time go think quickli becom regular', 'server nice even though look littl overwhelm need stay profession friendli end', 'dinner companion told everyth fresh nice textur tast', 'ground right next tabl larg smear step track everywher pile green bird poop', 'furthermor even find hour oper websit', 'tri like place time think done', 'mistak', 'complaint', 'serious good pizza expert connisseur topic', 'waiter jerk', 'strike want rush', 'nicest restaur owner ever come across', 'never come', 'love biscuit', 'servic quick friendli', 'order appet took minut pizza anoth minut', 'absolutley fantast', 'huge awkward lb piec cow th gristl fat', 'definit come back', 'like steiner dark feel like bar', 'wow spici delici', 'not familiar check', 'take busi dinner dollar elsewher', 'love go back', 'anyway fs restaur wonder breakfast lunch', 'noth special', 'day week differ deal delici', 'not mention combin pear almond bacon big winner', 'not back', 'sauc tasteless', 'food delici spici enough sure ask spicier prefer way', 'ribey steak cook perfectli great mesquit flavor', 'think go back anytim soon', 'food gooodd', 'far sushi connoisseur definit tell differ good food bad food certainli bad food', 'insult', 'last time lunch bad', 'chicken wing contain driest chicken meat ever eaten', 'food good enjoy everi mouth enjoy relax venu coupl small famili group etc', 'nargil think great', 'best tater tot southwest', 'love place', 'definit not worth paid', 'vanilla ice cream creami smooth profiterol choux pastri fresh enough', 'im az time new spot', 'manag worst', 'insid realli quit nice clean', 'food outstand price reason', 'think run back carli anytim soon food', 'due fact took minut acknowledg anoth minut get food kept forget thing', 'love margarita', 'first vega buffet not disappoint', 'good though', 'one note ventil could use upgrad', 'great pork sandwich', 'wast time', 'total letdown would much rather go camelback flower shop cartel coffe', 'third chees friend burger cold', 'enjoy pizza brunch', 'steak well trim also perfectli cook', 'group claim would handl us beauti', 'love', 'ask bill leav without eat bring either', 'place jewel la vega exactli hope find nearli ten year live', 'seafood limit boil shrimp crab leg crab leg definit not tast fresh', 'select food not best', 'delici absolut back', 'small famili restaur fine dine establish', 'toro tartar cavier extraordinari like thinli slice wagyu white truffl', 'dont think back long time', 'attach ga station rare good sign', 'awesom', 'back mani time soon', 'menu much good stuff could not decid', 'wors humili worker right front bunch horribl name call', 'conclus fill meal', 'daili special alway hit group', 'tragedi struck', 'pancak also realli good pretti larg', 'first crawfish experi delici', 'monster chicken fri steak egg time favorit', 'waitress sweet funni', 'also tast mom multi grain pumpkin pancak pecan butter amaz fluffi delici', 'rather eat airlin food serious', 'cant say enough good thing place', 'ambianc incred', 'waitress manag friendli', 'would not recommend place', 'overal impress noca', 'gyro basic lettuc', 'terribl servic', 'thoroughli disappoint', 'much pasta love homemad hand made pasta thin pizza', 'give tri happi', 'far best cheesecurd ever', 'reason price also', 'everyth perfect night', 'food good typic bar food', 'drive get', 'first glanc love bakeri cafe nice ambianc clean friendli staff', 'anyway not think go back', 'point finger item menu order disappoint', 'oh thing beauti restaur', 'gone go', 'greasi unhealthi meal', 'first time might last', 'burger amaz', 'similarli deliveri man not say word apolog food minut late', 'way expens', 'sure order dessert even need pack go tiramisu cannoli die', 'first time wait next', 'bartend also nice', 'everyth good tasti', 'place two thumb way', 'best place vega breakfast check sat sun', 'love authent mexican food want whole bunch interest yet delici meat choos need tri place', 'terribl manag', 'excel new restaur experienc frenchman', 'zero star would give zero star', 'great steak great side great wine amaz dessert', 'worst martini ever', 'steak shrimp opinion best entre gc', 'opportun today sampl amaz pizza', 'wait thirti minut seat although vacant tabl folk wait', 'yellowtail carpaccio melt mouth fresh', 'tri go back even empti', 'go eat potato found stranger hair', 'spici enough perfect actual', 'last night second time dine happi decid go back', 'not even hello right', 'dessert bit strang', 'boyfriend came first time recent trip vega could not pleas qualiti food servic', 'realli recommend place go wrong donut place', 'nice ambianc', 'would recommend save room', 'guess mayb went night disgrac', 'howev recent experi particular locat not good', 'know not like restaur someth', 'avoid establish', 'think restaur suffer not tri hard enough', 'tapa dish delici', 'heart place', 'salad bland vinegrett babi green heart palm', 'two felt disgust', 'good time', 'believ place great stop huge belli hanker sushi', 'gener portion great tast', 'never go back place never ever recommend place anyon', 'server went back forth sever time not even much help', 'food delici', 'hour serious', 'consid theft', 'eew locat need complet overhaul', 'recent wit poor qualiti manag toward guest well', 'wait wait wait', 'also came back check us regularli excel servic', 'server super nice check us mani time', 'pizza tast old super chewi not good way', 'swung give tri deepli disappoint', 'servic good compani better', 'staff also friendli effici', 'servic fan quick serv nice folk', 'boy sucker dri', 'rate', 'look authent thai food go els', 'steak recommend', 'pull car wait anoth minut acknowledg', 'great food great servic clean friendli set', 'assur back', 'hate thing much cheap qualiti black oliv', 'breakfast perpar great beauti present giant slice toast lightli dust powder sugar', 'kid play area nasti', 'great place fo take eat', 'waitress friendli happi accomod vegan veggi option', 'omg felt like never eaten thai food dish', 'extrem crumbi pretti tasteless', 'pale color instead nice char flavor', 'crouton also tast homemad extra plu', 'got home see driest damn wing ever', 'regular stop trip phoenix', 'realli enjoy crema caf expand even told friend best breakfast', 'not good money', 'miss wish one philadelphia', 'got sit fairli fast end wait minut place order anoth minut food arriv', 'also best chees crisp town', 'good valu great food great servic', 'ask satisfi meal', 'food good', 'awesom', 'want leav', 'made drive way north scottsdal not one bit disappoint', 'not eat', 'owner realli realli need quit soooooo cheap let wrap freak sandwich two paper not one', 'check place coupl year ago not impress', 'chicken got definit reheat ok wedg cold soggi', 'sorri not get food anytim soon', 'absolut must visit', 'cow tongu cheek taco amaz', 'friend not like bloodi mari', 'despit hard rate busi actual rare give star', 'realli want make experi good one', 'not return', 'chicken pho tast bland', 'disappoint', 'grill chicken tender yellow saffron season', 'drive thru mean not want wait around half hour food somehow end go make us wait wait', 'pretti awesom place', 'ambienc perfect', 'best luck rude non custom servic focus new manag', 'grandmoth make roast chicken better one', 'ask multipl time wine list time ignor went hostess got one', 'staff alway super friendli help especi cool bring two small boy babi', 'four star food guy blue shirt great vibe still let us eat', 'roast beef sandwich tast realli good', 'even drastic sick', 'high qualiti chicken chicken caesar salad', 'order burger rare came done', 'promptli greet seat', 'tri go lunch madhous', 'proven dead wrong sushi bar not qualiti great servic fast food impecc', 'wait hour seat not greatest mood', 'good joint', 'macaron insan good', 'not eat', 'waiter attent friendli inform', 'mayb cold would somewhat edibl', 'place lot promis fail deliv', 'bad experi', 'mistak', 'food averag best', 'great food', 'go back anytim soon', 'disappoint order big bay plater', 'great place relax awesom burger beer', 'perfect sit famili meal get togeth friend', 'not much flavor poorli construct', 'patio seat comfort', 'fri rice dri well', 'hand favorit italian restaur', 'scream legit book somethat also pretti rare vega', 'not fun experi', 'atmospher great love duo violinist play song request', 'person love hummu pita baklava falafel baba ganoush amaz eggplant', 'conveni sinc stay mgm', 'owner super friendli staff courteou', 'great', 'eclect select', 'sweet potato tot good onion ring perfect close', 'staff attent', 'chef gener time even came around twice take pictur', 'owner use work nobu place realli similar half price', 'googl mediocr imagin smashburg pop', 'dont go', 'promis disappoint', 'sushi lover avoid place mean', 'great doubl cheeseburg', 'awesom servic food', 'fantast neighborhood gem', 'wait go back', 'plantain worst ever tast', 'great place highli recommend', 'servic slow not attent', 'gave star give star', 'staff spend time talk', 'dessert panna cotta amaz', 'good food great atmospher', 'damn good steak', 'total brunch fail', 'price reason flavor spot sauc home made slaw not drench mayo', 'decor nice piano music soundtrack pleasant', 'steak amaz rge fillet relleno best seafood plate ever', 'good food good servic', 'absolut amaz', 'probabl back honest', 'definit back', 'sergeant pepper beef sandwich auju sauc excel sandwich well', 'hawaiian breez mango magic pineappl delight smoothi tri far good', 'went lunch servic slow', 'much say place walk expect amaz quickli disappoint', 'mortifi', 'needless say never back', 'anyway food definit not fill price pay expect', 'chip came drip greas mostli not edibl', 'realli impress strip steak', 'go sinc everi meal awesom', 'server nice attent serv staff', 'cashier friendli even brought food', 'work hospit industri paradis valley refrain recommend cibo longer', 'atmospher fun', 'would not recommend other', 'servic quick even go order like like', 'mean realli get famou fish chip terribl', 'said mouth belli still quit pleas', 'not thing', 'thumb', 'read pleas go', 'love grill pizza remind legit italian pizza', 'pro larg seat area nice bar area great simpl drink menu best brick oven pizza homemad dough', 'realli nice atmospher', 'tonight elk filet special suck', 'one bite hook', 'order old classic new dish go time sore disappoint everyth', 'cute quaint simpl honest', 'chicken delici season perfect fri outsid moist chicken insid', 'food great alway compliment chef', 'special thank dylan recommend order yummi tummi', 'awesom select beer', 'great food awesom servic', 'one nice thing ad gratuiti bill sinc parti larger expect tip', 'fli appl juic fli', 'han nan chicken also tasti', 'servic thought good', 'food bare lukewarm must sit wait server bring us', 'ryan bar definit one edinburgh establish revisit', 'nicest chines restaur', 'overal like food servic', 'also serv indian naan bread hummu spici pine nut sauc world', 'probabl never come back recommend', 'friend pasta also bad bare touch', 'tri airport experi tasti food speedi friendli servic', 'love decor chines calligraphi wall paper', 'never anyth complain', 'restaur clean famili restaur feel', 'way fri', 'not sure long stood long enough begin feel awkwardli place', 'open sandwich impress not good way', 'not back', 'warm feel servic felt like guest special treat', 'extens menu provid lot option breakfast', 'alway order vegetarian menu dinner wide array option choos', 'watch price inflat portion get smaller manag attitud grow rapidli', 'wonder lil tapa ambienc made feel warm fuzzi insid', 'got enjoy seafood salad fabul vinegrett', 'wonton thin not thick chewi almost melt mouth', 'level spici perfect spice whelm soup', 'sat right time server get go fantast', 'main thing enjoy crowd older crowd around mid', 'side town definit spot hit', 'wait minut get drink longer get arepa', 'great place eat', 'jalapeno bacon soooo good', 'servic poor that nice', 'food good servic good price good', 'place not clean food oh stale', 'chicken dish ok beef like shoe leather', 'servic beyond bad', 'happi', 'tast like dirt', 'one place phoenix would defin go back', 'block amaz', 'close hous low key non fanci afford price good food', 'hot sour egg flower soup absolut star', 'sashimi poor qualiti soggi tasteless', 'great time famili dinner sunday night', 'food not tasti not say real tradit hunan style', 'bother slow servic', 'flair bartend absolut amaz', 'frozen margarita way sugari tast', 'good order twice', 'nutshel restaraunt smell like combin dirti fish market sewer', 'girlfriend veal bad', 'unfortun not good', 'pretti satifi experi', 'join club get awesom offer via email', 'perfect someon like beer ice cold case even colder', 'bland flavorless good way describ bare tepid meat', 'chain fan beat place easili', 'nacho must', 'not come back', 'mani word say place everyth pretti well', 'staff super nice quick even crazi crowd downtown juri lawyer court staff', 'great atmospher friendli fast servic', 'receiv pita huge lot meat thumb', 'food arriv meh', 'pay hot dog fri look like came kid meal wienerschnitzel not idea good meal', 'classic main lobster roll fantast', 'brother law work mall ate day guess sick night', 'good go review place twice herea tribut place tribut event held last night', 'chip salsa realli good salsa fresh', 'place great', 'mediocr food', 'get insid impress place', 'super pissd', 'servic super friendli', 'sad littl veget overcook', 'place nice surpris', 'golden crispi delici', 'high hope place sinc burger cook charcoal grill unfortun tast fell flat way flat', 'could eat bruschetta day devin', 'not singl employe came see ok even need water refil final serv us food', 'lastli mozzarella stick best thing order', 'first time ever came amaz experi still tell peopl awesom duck', 'server neglig need made us feel unwelcom would not suggest place', 'servic terribl though', 'place overpr not consist boba realli overpr', 'pack', 'love place', 'say dessert yummi', 'food terribl', 'season fruit fresh white peach pure', 'kept get wors wors offici done', 'place honestli blown', 'definit would not eat', 'not wast money', 'love put food nice plastic contain oppos cram littl paper takeout box', 'cr pe delic thin moist', 'aw servic', 'ever go', 'food qualiti horribl', 'price think place would much rather gone', 'servic fair best', 'love sushi found kabuki price hip servic', 'favor stay away dish', 'poor servic', 'one tabl thought food averag worth wait', 'best servic food ever maria server good friendli made day', 'excel', 'paid bill not tip felt server terribl job', 'lunch great experi', 'never bland food surpris consid articl read focus much spice flavor', 'food way overpr portion fuck small', 'recent tri caballero back everi week sinc', 'buck head realli expect better food', 'food came good pace', 'ate twice last visit especi enjoy salmon salad', 'back', 'could not believ dirti oyster', 'place deserv star', 'would not recommend place', 'fact go round star awesom', 'disbelief dish qualifi worst version food ever tast', 'bad day not low toler rude custom servic peopl job nice polit wash dish otherwis', 'potato great biscuit', 'probabl would not go', 'flavor perfect amount heat', 'price reason servic great', 'wife hate meal coconut shrimp friend realli not enjoy meal either', 'fella got huevo ranchero look appeal', 'went happi hour great list wine', 'may say buffet pricey think get pay place get quit lot', 'probabl come back', 'worst food servic', 'place pretti good nice littl vibe restaur', 'talk great custom servic cours back', 'hot dish not hot cold dish close room temp watch staff prepar food bare hand glove everyth deep fri oil', 'love fri bean', 'alway pleasur deal', 'plethora salad sandwich everyth tri get seal approv', 'place awesom want someth light healthi summer', 'sushi strip place go', 'servic great even manag came help tabl', 'feel dine room colleg cook cours high class dine servic slow best', 'start review two star edit give one', 'worst sushi ever eat besid costco', 'excel restaur highlight great servic uniqu menu beauti set', 'boyfriend sat bar complet delight experi', 'weird vibe owner', 'hardli meat', 'better bagel groceri store', 'go place gyro', 'love owner chef one authent japanes cool dude', 'burger good pizza use amaz doughi flavorless', 'found six inch long piec wire salsa', 'servic terribl food mediocr', 'defin enjoy', 'order albondiga soup warm tast like tomato soup frozen meatbal', 'three differ occas ask well done medium well three time got bloodiest piec meat plate', 'two bite refus eat anymor', 'servic extrem slow', 'minut wait got tabl', 'serious killer hot chai latt', 'allergi warn menu waitress absolut clue meal not contain peanut', 'boyfriend tri mediterranean chicken salad fell love', 'rotat beer tap also highlight place', 'price bit concern mellow mushroom', 'worst thai ever', 'stay vega must get breakfast least', 'want first say server great perfect servic', 'pizza select good', 'strawberri tea good', 'highli unprofession rude loyal patron', 'overal great experi', 'spend money elsewher', 'regular toast bread equal satisfi occasion pat butter mmmm', 'buffet bellagio far anticip', 'drink weak peopl', 'also feel like chip bought not made hous', 'disappoint dinner went elsewher dessert', 'chip sal amaz', 'return', 'new fav vega buffet spot', 'serious cannot believ owner mani unexperienc employe run around like chicken head cut', 'sad', 'felt insult disrespect could talk judg anoth human like', 'call steakhous properli cook steak understand', 'not impress concept food', 'thing crazi guacamol like pur ed', 'realli noth postino hope experi better', 'got food poison buffet', 'brought fresh batch fri think yay someth warm', 'hilari yummi christma eve dinner rememb biggest fail entir trip us', 'needless say go back anytim soon', 'place disgust', 'everi time eat see care teamwork profession degre', 'ri style calamari joke', 'howev much garlic fondu bare edibl', 'could bare stomach meal complain busi lunch', 'bad lost heart finish', 'also took forev bring us check ask', 'one make scene restaur get definit lost love one', 'disappoint experi', 'food par denni say not good', 'want wait mediocr food downright terribl servic place', 'waaaaaayyyyyyyyyi rate say', 'go back', 'place fairli clean food simpli worth', 'place lack style', 'sangria half glass wine full ridicul', 'bother come', 'meat pretti dri slice brisket pull pork', 'build seem pretti neat bathroom pretti trippi eat', 'equal aw', 'probabl not hurri go back', 'slow seat even reserv', 'not good stretch imagin', 'cashew cream sauc bland veget undercook', 'chipolt ranch dip saus tasteless seem thin water heat', 'bit sweet not realli spici enough lack flavor', 'disappoint', 'place horribl way overpr', 'mayb vegetarian fare twice thought averag best', 'busi know', 'tabl outsid also dirti lot time worker not alway friendli help menu', 'ambianc not feel like buffet set douchey indoor garden tea biscuit', 'con spotti servic', 'fri not hot neither burger', 'came back cold', 'food came disappoint ensu', 'real disappoint waiter', 'husband said rude not even apolog bad food anyth', 'reason eat would fill night bing drink get carb stomach', 'insult profound deuchebaggeri go outsid smoke break serv solidifi', 'someon order two taco think may part custom servic ask combo ala cart', 'quit disappoint although blame need place door', 'rave review wait eat disappoint', 'del taco pretti nasti avoid possibl', 'not hard make decent hamburg', 'like', 'hell go back', 'gotten much better servic pizza place next door servic receiv restaur', 'know big deal place back ya', 'immedi said want talk manag not want talk guy shot firebal behind bar', 'ambianc much better', 'unfortun set us disapppoint entre', 'food good', 'server suck wait correct server heimer suck', 'happen next pretti put', 'bad caus know famili own realli want like place', 'overpr get', 'vomit bathroom mid lunch', 'kept look time soon becom minut yet still food', 'place eat circumst would ever return top list', 'start tuna sashimi brownish color obvious fresh', 'food averag', 'sure beat nacho movi would expect littl bit come restaur', 'ha long bay bit flop', 'problem charg sandwich bigger subway sub offer better amount veget', 'shrimp unwrap live mile brushfir liter ice cold', 'lack flavor seem undercook dri', 'realli impress place close', 'would avoid place stay mirag', 'refri bean came meal dri crusti food bland', 'spend money time place els', 'ladi tabl next us found live green caterpillar salad', 'present food aw', 'tell disappoint', 'think food flavor textur lack', 'appetit instantli gone', 'overal not impress would not go back', 'whole experi underwhelm think go ninja sushi next time', 'wast enough life pour salt wound draw time took bring check', 'food isgood', 'food serv quick', 'nice food serv', 'tasti food serv', 'moder tast proprietri sell food cash digit transact avail peopl liquid cash go would not allow digit payment via paytm phone pay googl pay debit card swipe etc', 'tifin item good hygien well maintain', 'good', 'moder tast proprietri sell food cash digit transact avail peopl liquid cash go would not allow digit payment via paytm phone pay googl pay debit card swipe etc', 'tifin item good hygien well maintain', 'good', 'good place consum take away tiffin mini meal not good', 'famou ongol type break fast varieti', 'poor tast hygien standard person serv tiffin sweat lot understand famou', 'good follow covid rule strictli', 'high cost averag tast qualiti', 'tast good fast smooth self servic order time also less best place employe eat healthi', 'visit breakfast earli morn good self servic food good fresh tasti idle dosa good offcours coffe exlent fresh coffe found entir ongol', 'breakfast good buy meal pongal vada best serv staff bit harsh', 'veriati breakfast rice item fine tast', 'good tiffen', 'great place convent tiffin love place would alway look forward visit lost luster coupl year never invent moregreat place convent tiffin love place would alway look forward visit lost luster coupl year never invent menu layout still realli good place new first time', 'food enjoy food everi visit', 'good veg food', 'previouli standard high feel standard bit lower', 'worst servic nd bad tast food', 'tast good hygien not good', 'food tasti ambianc servic good', 'nice experi excel qualiti', 'use best year ago not held name right', 'delici dish like hotel', 'good restaur tiffin', 'good varieti food item includ snack', 'good varieti snack avail tast averag good quick servic', 'breakfast must tri cost worth', 'deliciousbuttoo much cost', 'good place eat south indian cuisin use visit daili post kv ongol mana', 'good', 'best food', 'place nice meet friend famili togeth ice cream eatabl', 'tasti food respect servic', 'good place tiffen snak spl sambar idli set dosa tasti', 'chai good breakfast serv tasti', 'worst food even food not hot', 'good food along good servic', 'tasti', 'self serv restaur busi road restaur alway crowd qualiti food serv rate reason whenev visit ongol compulsorili visit restaur breakfast lunch morethi self serv restaur busi road restaur alway crowd qualiti food serv rate reason whenev visit ongol compulsorili visit restaur breakfast lunch dinner tabl provid chair tabl eat stand posit mad rush parcel also', 'authent ongol breakfast would recommend pesarattu sambar vada also notic sambhar serv region littl sweet unlik percept andhra dish spici', 'tri restuar first time last night food great freshli cook tasti well present waiter attent servic overal good restaur look recent decor overal good meal great valu certainli go back', 'not bad', 'well maintain tasti food', 'nice place feast', 'place tasti food', 'poor ambienc tast good good place quick bite', 'good', 'good food', 'food good vegetarian delici varieti south indian tiffin avail tast good filter coffe meet point chit chat', 'good food good tasteus cook soda high need minim cook soda qti', 'good tasti food sit plan super good mainten', 'good breakfast filter coffe avail ongol town', 'averag qualiti compet street vendor increas price tiffin nice place variou tiffin coffe good', 'nice clean awesom', 'good tast qualiti quantiti fine doesnt car park rest room', 'serv best murali also best restaur', 'food qualiti quantiti tast super order taken much time process', 'good place quick breakfast snack dinner self servic gr tast hygien', 'nice food', 'clean area monitor mainten good', 'good food bit prici tri expand place complet crowd even hour need improv sanit', 'u get tasti food', 'put hand clean liquid good drink water took veg biryani curdric good neat simpl cost', 'super qualiti good food cost littl bit high', 'food item alway fresh reason rate', 'tast good thing much cost regard insid cleanli would give rate side time beggar torment costum proper park like hell vehicl first row', 'good place breakfast', 'good place', 'not great satisfactori', 'super gulab jam good food avaibl', 'ramya food excel restaur high tast varieti snack food', 'good', 'good', 'nice food court ongol', 'good tasti excel tiffen milkshak', 'good tast n good qualiti comfort', 'good qualiti quantiti food', 'good food qualiti tast', 'good hygien place morn even breakfast littl bit expens', 'good fast food centr never end custom', 'compar vegiterian hotel ramya food provid qualiti breakfast dinner self serv hotel person like pongal set dosa masala dosa', 'verynic', 'tast good even find much varieti reason price', 'good', 'tasti', 'fine', 'moder rate qualiti good', 'food nice', 'good', 'excel newli establish self servic food centr', 'need clean', 'good place tiffin ongol afford price near rim hospit self servic', 'tasti bakeri item sweet', 'good food price pay would definit prefer next time', 'tast delici near bu stop', 'ok parcil slowli staf approach bad', 'cell phone number question pleas contact websit resum attach updat profil photo album cover taken care email moment first time seen morecel phone number question pleas contact websit resum attach updat profil photo album cover taken care email moment first time seen see much time consider mind futur pleas unsubscrib detail favorit color taken phone call discuss mind thank regardsjio teamhyderabad ts', 'ramya food nice attract peopl prefer best item', 'bad cool idli set dosa also poor qualiti total poor qualiti observ', 'servic satisfi delici', 'good need', 'good best qualiti', 'good food reason price problem staff fight front custom', 'good qualiti goodi like gulaab jaam much', 'delici food', 'good place eat chitchat', 'nice', 'great tast food perfect breakfast g servic', 'good place compar surround food court especi tea coffe', 'one best bakeri ongol', 'good qualiti tasti food ongol', 'good servic', 'nice test food', 'good place eat qualiti food', 'best hub snack bakeri item tiffin fast food ongol citi', 'excel food like mani', 'nice', 'mini meal good', 'locat trunk road ongol near bhagyanagar first lane qualit vegetarian tiffin', 'e place food zone amaz tase tiffin lunch ongol', 'good tast neatli maintain chain hotel ongol', 'good food', 'nice food', 'ok', 'good ice cream low price', 'better food avail remain hotel', 'super tasti break fast avail good qualiti tast servic clean premis main road varieti tiffin avail cut pongal one favourit menu', 'good food reason cost', 'great food famou sambar idli', 'star tast custom servic hygien', 'pongal good vada worst', 'nice quick andhra food', 'hotel vegetarian food avail tast worthi', 'super tasti food', 'yummi yummi tast especi sambar suuuuppperrrr', 'one best restaur ongol citi also good famili restaur', 'enjoy decent fast food', 'maintain tasti food quick servic', 'sambar idli not satisfi sambar tast chutney ok', 'food good servic not happi', 'break fast good servic also good', 'tast better cost somewhat high', 'good place eat meal breakfast snack', 'tasti qualiti food famili place good tourist also', 'good tast ambienc not good', 'good', 'nice filter coffe', 'good valu money', 'good food afford', 'super break fast iddli masala dosa pongal yummi', 'good', 'good food good tast', 'top ongol', 'good tast self servic', 'good tast qualiti', 'good verri verri good food', 'good qualiti food neat', 'great better tifin ongol', 'one best place ongol tiffin meal dinner', 'locat heart ongoletown trunk road bhagyanagar pure avegetarian restaur', 'nice tast', 'get best food ongol', 'best place great food ongol', 'superb tast continu till date ongol best fast food center', 'one best tiffin hotel ongol', 'bone less biriyani good', 'tasti food reason rate', 'nice qualiti good', 'best tiffen ongol serv', 'nice place vegetarian food', 'food tasti cost reason', 'upon time good hotel qualiti not good', 'good quick food tast good', 'tasti item afford price', 'littl bit expens food qualiti good good maintain', 'super tasti food', 'good', 'good', 'love coffe total good', 'nice food ambienc', 'good tast qualiti clean mainten', 'best hotel ongol snack tiffin', 'good food avail speed mover', 'tasti food bad servic mainten', 'tasti food n filter coffe excel', 'not bad high cost', 'good', 'tastey food', 'one best breakfast center ongol', 'best tiffin ongol', 'good vegetarian option ther', 'good fast food center east ongol', 'self servic everi time go suppli counter chatni n pickl meanwhil seat occupi', 'qualiti gud mantan worst', 'good', 'ok not good day', 'nice tiffin', 'best fastfood center ongol', 'best coffe ongol', 'good tast alway better seem fairli outdat dish name place make chang', 'testi good qualiti', 'tasti good crowd', 'hotel develop fond ongol', 'tv tu v c', 'place delici tiffin', 'ok ok', 'good', 'curri tast good', 'good tasti food', 'nice', 'nice good price good tast', 'good tast quick', 'ongol', 'place type item get', 'ok good', 'home coffe tiffen', 'gud qualiti food', 'tasti food avail', 'good', 'gud tasti', 'love', 'best sambar avail', 'good breakfast', 'nice', 'sinc born onward see still', 'varieti sweet avail', 'nice tiffin everyth', 'good', 'nice place privaci', 'reclec repli worker', 'super south indian breakfast', 'tasti', 'good', 'not better', 'nice', 'good vegi', 'not maintain old tast', 'superb', 'ok', 'tasti', 'tasti', 'good food', 'tast good miss hygien', 'excel', 'staff rude behaviour', 'tasti', 'not good', 'nyc', 'ok', 'nice', 'ok', 'idli tast better', 'food', 'good breakfast avail', 'idli sambhar', 'extremli love', 'hygen food item', 'good', 'price high food super', 'love tast', 'love restaur qualiti servic', 'tasti', 'good food', 'tasti food', 'not gud', 'nice eat', 'nice', 'good alway prefer', 'delici', 'nice', 'good excel', 'super tast', 'tasti tiffin food', 'awesom food', 'delici breakfast', 'fast food', 'ongol tasti food', 'good', 'delici food', 'test nice', 'good food item', 'good tiffin centr', 'idli bad mini meal averag', 'cake good tast', 'goood', 'qualiti food', 'good food', 'nice food', 'good', 'superb', 'tasti food item', 'testi', 'good hotel', 'good breakfast', 'good food', 'better tiffin', 'tiffin ok', 'poor mainten', 'good tiffin tea', 'good one', 'good tast fresh breakfast', 'bad serv eventho self servic', 'supper qualiti', 'nice', 'good food', 'great', 'self servic soo littl bit uneasi', 'okay food', 'delici food', 'b tter tea', 'good', 'famou fast food', 'good', 'best class hotel', 'good food', 'fast food center', 'niccc', 'familiar fast food two branch ongol', 'awesom', 'need improv varieti item thier avail', 'excel', 'good', 'tast good differ other', 'nice sambar idli', 'super place', 'nice', 'good best tast ongol', 'fine', 'nice food', 'popular food item', 'mani sweet hot bakeri item', 'tasti fast food', 'good tast qualiti', 'good', 'good tast', 'tast good', 'clean neat tiffen', 'ok', 'super', 'worst food', 'ok', 'nice place tiffin', 'tast food', 'good food', 'excel tast', 'good', 'good', 'veg shhh', 'qualiti good', 'good food hospit', 'super', 'super', 'qualiti', '', 'super', 'good', 'good', 'good', 'help', 'good', 'nice', 'good', 'good', 'good', 'best', 'tasti', 'good', 'super food', 'good', 'good', 'good', 'nice', 'nice', 'excel', 'not point', 'good', 'averag', 'ok', 'good', 'nice', 'black coffe avail', 'good', 'good', 'ok', 'satisfi', 'good', 'good', 'good hotel', 'good servic', 'nice clean tiffen', 'nice', 'good', 'good food', 'nice food', 'good food', 'tasti', 'good', 'worst', 'ok', 'nice', 'good', 'food good', 'nice', 'ok', 'good food', 'good', 'feel good', 'realli good', 'good', 'good kwaliti', 'taseti food', 'excel', 'good tasti', 'great food', 'nice', '', 'ok', 'tasti food', 'good food', 'tasti tefin', 'nice place tiffin', 'good', 'good', 'tast', 'ongol one good food center', 'price high', 'delici food', 'one good food centr', 'best breakfast', 'good', 'good food', 'hygien', 'awesom tast', 'wast money', 'good tast', 'bad mainten', 'nice', 'food tasti', 'nice coffe', 'good', 'nice food', 'ok', 'excel food', 'nice food', 'nice food', 'good', 'nice breakfast avail', 'tasti', 'good', 'good', 'good', 'good food', 'tasti food avail', 'good tast', 'normal raini session', 'hygien atmospher', 'perfect', 'wait time much', 'tasti tiffin', 'nice place', 'good tast food', 'awesom tast', 'food bad tast', 'soo tasti', 'nice breakfast', 'coffe good', 'excel place friend', 'good', 'nice food', 'quick servic', 'excel food', 'nice', 'brakefast tasti', 'good food tasti also', 'ok', 'qualiti food']\n"
          ],
          "name": "stdout"
        }
      ]
    },
    {
      "cell_type": "markdown",
      "metadata": {
        "id": "Qekztq71CixT"
      },
      "source": [
        "\n",
        "#Cleaning the output texts"
      ]
    },
    {
      "cell_type": "code",
      "metadata": {
        "id": "8u_yXh9dCmEE",
        "colab": {
          "base_uri": "https://localhost:8080/"
        },
        "outputId": "a43cb820-c4bb-4742-cf02-49df102b6e13"
      },
      "source": [
        "import re\n",
        "import nltk\n",
        "nltk.download('stopwords')\n",
        "from nltk.corpus import stopwords\n",
        "from nltk.stem.porter import PorterStemmer\n",
        "corpus2 = []\n",
        "for i in range(0, 103):\n",
        "  review = re.sub('[^a-zA-Z]', ' ', dataset2['review'][i])\n",
        "  review = review.lower()\n",
        "  review = review.split()\n",
        "  ps = PorterStemmer()\n",
        "  all_stopwords = stopwords.words('english')\n",
        "  all_stopwords.remove('not')\n",
        "  review = [ps.stem(word) for word in review if not word in set(all_stopwords)]\n",
        "  review = ' '.join(review)\n",
        "  corpus2.append(review)"
      ],
      "execution_count": null,
      "outputs": [
        {
          "output_type": "stream",
          "text": [
            "[nltk_data] Downloading package stopwords to /root/nltk_data...\n",
            "[nltk_data]   Package stopwords is already up-to-date!\n"
          ],
          "name": "stdout"
        }
      ]
    },
    {
      "cell_type": "code",
      "metadata": {
        "id": "KpGWdrzGoAsL",
        "colab": {
          "base_uri": "https://localhost:8080/"
        },
        "outputId": "358f3264-da5c-466c-fb3e-24b40d1e2b3a"
      },
      "source": [
        "print(corpus2)"
      ],
      "execution_count": null,
      "outputs": [
        {
          "output_type": "stream",
          "text": [
            "['ambienc make feel good not food varieti pleas avoid biryani also serv duplic water bottl disappoint', 'ambianc restaur realli warm cozi locat entranc ongol town nearbi mart one well known food place ongol moreth ambianc restaur realli warm cozi locat entranc ongol town nearbi mart one well known food place ongol visit place pandem time not good staff manag well sanitis put mask face shield main neg food not upto mark somewhat bland tasteless usual prefer place one earlier visit gave us bad experi hope improv food qualiti get back soon', 'park space avail veg qualiti good non veg eat prawn low qualiti prawn serv', 'ambienc make feel good not food varieti pleas avoid biryani also serv duplic water bottl disappoint', 'ambianc restaur realli warm cozi locat entranc ongol town nearbi mart one well known food place ongol moreth ambianc restaur realli warm cozi locat entranc ongol town nearbi mart one well known food place ongol visit place pandem time not good staff manag well sanitis put mask face shield main neg food not upto mark somewhat bland tasteless usual prefer place one earlier visit gave us bad experi hope improv food qualiti get back soon', 'park space avail veg qualiti good non veg eat prawn low qualiti prawn serv', 'wonder tast costli', 'better new restaur ongol good tast fresh item', 'worst food never tast ongol road side food better ganesh taken order rude behaviour', 'good servic tast food also good prize wise good', 'kb one best ongol almost everyth good kb not outstand expect high', 'good old kb ongol tast chang much slowli go though biryani best still', 'good mainten ambienc polit staff not much varieti make nice famili time', 'famou ongolegood set upnic park spacenic place food famili', 'compress restaur kb heigher charger discount avail restaur not give compliment servic', 'food tasti peopl ongol mostli eat two branch not ongol suggest visit place wonder time', 'worst servic idiot peopl servic counter know treat custom idiot servic', 'good restaur veg n non veg foodi peopl great ambienc', 'order roti curri roti quit big fresh curri not bad need improv', 'visit place travel ongol food good hygen hospit good quantiti also good afford price like restaur', 'food tast realli good like ambienc much', 'food takeaway park super mainten bar', 'tast pleasent hormoni love visit', 'worst food ever seen lifeaft food heat supli night observ everi one visit kb', 'interior look cool pleasant suitabl famili food tast good delay get order', 'order appollo fish fri bit biryani along butter naan though appollo fish bit spici biryani naan pretti good', 'ongol best friend familyparti qualiti good', 'k food better restaur quantiti might issu tast overcom issu', 'ongol famou famili restaur good kind nonveg food', 'found lot descrep price menu bill w gst servic men keep stare us', 'feel not authent biryani tast also averag side dish tast pretti good good good insid space look neat clean find differ pulav biryani fri chicken kb morei feel not authent biryani tast also averag side dish tast pretti good good good insid space look neat clean find differ pulav biryani fri chicken kb spl chicken good mutton biryani would better option compar cb price okay locat ongol town ongol nellor road near bypass satisfi food need improv biryani tast', 'worest mutton biryani eat aver', 'order mutton biryani worst tast not good', 'ate chicken fri biryani good fresh juisi piec chicken final worthi money', 'wonder place local best food ever nice servic beauti place nearbi amaz bar peac restaur alway want go also prefer everyon main thing stay room clean fantast best servic', 'delay servic tast not mark', 'nice nice food', 'not great chicken boneless biriyani price', 'late take away hygien wait area food also costli quantiti qualiti not recommend serv pulao not briyani', 'good worth wait turn', 'one worst place food ambianc not good price high compar qualiti food', 'day everyth stale cold item avail may pandem', 'everi item uniqu tast qualiti must visit place foodi', 'good food nice place dine famili friend', 'previou mainten tast not avail fulli disappoint', 'donot order chilli chicken filthi tast chicken good senior staff lazi listen', 'super food awsom tast best restaur ongol town', 'famou sp biriyani', 'price delay servic tast also not much good', 'good tasti food', 'good place famili friend', 'cost food menu card differ bill not right servic person not pay attent us talk himw think visit', 'nice restaur raesonbl cost good tast', 'kb east great food nice ambianc take away realli good sp chicken fri rice majest chicken tast great', 'tast not good give star', 'nice food tasti servic good', 'not expect need enhanc aspect', 'ganesh readymad', 'lockdown feel discomfort mainten', 'food not good yet place nice worth one time visit', 'food not tasti even stater also worst tast', 'not bad food tast ok', 'qualiti good tasti less oilquant reasonableroad side', 'delici food comfort ambienc', 'go regularli go nativ', 'tast chang qualiti quantiti', 'good food n servic', 'good place hangout dine', 'best servic good food', 'spici tast', 'kb east famou non vegetarian food sinc long howev recent time qualiti food gradual come old reput still bring peopl restaur consist qualiti maintain', 'good place safeti precaut taken covid serv peopl humbl', 'u see star bill', 'bad servic tasteless food much rate', 'exlent food exlent servic', 'food not worth priceambi good', 'nice one relax even', 'vintag kb miss two three year', 'lot varieti menu not differ tast good known non vegetarian item well vegetarian item lot item menu item good tast suffici place park alway crowd morea lot varieti menu not differ tast good known non vegetarian item well vegetarian item lot item menu item good tast suffici place park alway crowd good servic good ambienc town bar also avail first floor hotel small close room good enough small parti gather friend parti hospit good servic good ambienc good crowd parcel section well got differ branch town equal good term qualiti tast item menu servic ambienc local within reach one definit get satisfi tast food good famili restaur bar avail small parti gather room avail', 'nice food famili go restar', 'servic not satisfactori tooo bad', 'food averageserv badnot satisfiedr high', 'worst food qualiti servic', 'not good okay', 'much food cost low mainten', 'best restaur ongol', 'bit tuff find place park', 'nice rrstuarant', 'not set famili drinker help', 'best place nice view', 'good nice food', 'bad servic good food tast', 'good ambienc tast upto mark import thing reason price polit staff quick servic whole awesom restaur', 'soft hot drink cost high', 'food ok spaciou not clean enjoy north indian dish biryani south indian dish pleas find restaur park outsid staff not courteou', 'food good even order got us finger bowl ask execut said not order anyth actual complet food plate disappoint', 'one old restaur ongol low mainten bad hospit come food enough qualiti quantiti stay long top line moreon old restaur ongol low mainten bad hospit come food enough qualiti quantiti stay long top line ask one person took order today tast food gave said happen sir said tast good chicken chunk smell bad snif said sir not take back deduct money pocket felt sorri mindset paid money came away cleanli tast food bill amount order chicken majest liquor', 'nice ambeinc good tast polit staff quick servic price reason whole awesom', 'ambienc good mainten good need improv biryani snack item good', 'good food', 'food nt good', 'sinc maintain hygien good qualiti food especi vegetarian food', 'avg not bad']\n"
          ],
          "name": "stdout"
        }
      ]
    },
    {
      "cell_type": "markdown",
      "metadata": {
        "id": "ckJRX8ybD5oD"
      },
      "source": [
        ""
      ]
    },
    {
      "cell_type": "markdown",
      "metadata": {
        "id": "CLqmAkANCp1-"
      },
      "source": [
        "## Creating the Bag of Words model"
      ]
    },
    {
      "cell_type": "code",
      "metadata": {
        "id": "qroF7XcSCvY3"
      },
      "source": [
        "from sklearn.feature_extraction.text import CountVectorizer\n",
        "cv = CountVectorizer(max_features=380)\n",
        "X = cv.fit_transform(corpus).toarray()\n",
        "y = dataset1.iloc[:1479, -1].values"
      ],
      "execution_count": null,
      "outputs": []
    },
    {
      "cell_type": "code",
      "metadata": {
        "colab": {
          "base_uri": "https://localhost:8080/"
        },
        "id": "zgv8-hzjF-_U",
        "outputId": "1be4755b-cb6b-4e0a-b232-35314d4ffec1"
      },
      "source": [
        "print(len(X[60]))"
      ],
      "execution_count": null,
      "outputs": [
        {
          "output_type": "stream",
          "text": [
            "380\n"
          ],
          "name": "stdout"
        }
      ]
    },
    {
      "cell_type": "code",
      "metadata": {
        "colab": {
          "base_uri": "https://localhost:8080/"
        },
        "id": "DOdLZyY6PzRp",
        "outputId": "e003bec4-2b7b-444f-ecc6-538b5bdd141f"
      },
      "source": [
        "print(len(y))"
      ],
      "execution_count": null,
      "outputs": [
        {
          "output_type": "stream",
          "text": [
            "1479\n"
          ],
          "name": "stdout"
        }
      ]
    },
    {
      "cell_type": "code",
      "metadata": {
        "id": "4jw0uij8FKfJ"
      },
      "source": [
        "x2_test=cv.fit_transform(corpus2).toarray()"
      ],
      "execution_count": null,
      "outputs": []
    },
    {
      "cell_type": "code",
      "metadata": {
        "colab": {
          "base_uri": "https://localhost:8080/"
        },
        "id": "R4QhB2UzGjRx",
        "outputId": "9f023276-e726-4d73-9f81-52f7fbb0674f"
      },
      "source": [
        "print(len(x2_test[0]))"
      ],
      "execution_count": null,
      "outputs": [
        {
          "output_type": "stream",
          "text": [
            "380\n"
          ],
          "name": "stdout"
        }
      ]
    },
    {
      "cell_type": "markdown",
      "metadata": {
        "id": "VkIq23vEDIPt"
      },
      "source": [
        "## Training the Kernel SVM model on the Training set"
      ]
    },
    {
      "cell_type": "markdown",
      "metadata": {
        "id": "F-IBqAMb2HCZ"
      },
      "source": [
        "#using kernal svm"
      ]
    },
    {
      "cell_type": "code",
      "metadata": {
        "colab": {
          "base_uri": "https://localhost:8080/"
        },
        "id": "IH2V9Leo2LiT",
        "outputId": "927cf7b5-4a25-41ce-9c04-f2ee88e25da3"
      },
      "source": [
        "from sklearn.svm import SVC\n",
        "classifier = SVC(kernel = 'rbf', random_state = 0)\n",
        "classifier.fit(X, y)"
      ],
      "execution_count": null,
      "outputs": [
        {
          "output_type": "execute_result",
          "data": {
            "text/plain": [
              "SVC(C=1.0, break_ties=False, cache_size=200, class_weight=None, coef0=0.0,\n",
              "    decision_function_shape='ovr', degree=3, gamma='scale', kernel='rbf',\n",
              "    max_iter=-1, probability=False, random_state=0, shrinking=True, tol=0.001,\n",
              "    verbose=False)"
            ]
          },
          "metadata": {
            "tags": []
          },
          "execution_count": 104
        }
      ]
    },
    {
      "cell_type": "markdown",
      "metadata": {
        "id": "1JaRM7zXDWUy"
      },
      "source": [
        "## Predicting the Test set results"
      ]
    },
    {
      "cell_type": "code",
      "metadata": {
        "id": "Iif0CVhFDaMp",
        "colab": {
          "base_uri": "https://localhost:8080/"
        },
        "outputId": "d882beb3-954e-4f87-9c38-a89b98309dd7"
      },
      "source": [
        "y_pred = classifier.predict(x2_test)\n",
        "print(np.concatenate((y_pred.reshape(len(y_pred),1), x2.reshape(len(x2),1)),1))"
      ],
      "execution_count": null,
      "outputs": [
        {
          "output_type": "stream",
          "text": [
            "[[1.0\n",
            "  'Ambience make you feel good but not all food varieties, please avoid Biryanis here and also they served duplicate water bottles which very disappointed.']\n",
            " [1.0\n",
            "  'The ambiance of this restaurant is really warm and cozy. Located at the entrance of the ongole town (nearby D-mart). It is one of the most well known food places in ongole. …MoreThe ambiance of this restaurant is really warm and cozy. Located at the entrance of the ongole town (nearby D-mart). It is one of the most well known food places in ongole.My visit to this place during the pandemic time is not so good. The staff and the managers are well sanitised and put on masks and face shields. But the main negative is food is not upto the mark. It was somewhat bland and tasteless.We usually prefer this place, but that one earlier visit gave us a bad experience. Hope they can improve the food quality and get back soon.']\n",
            " [1.0\n",
            "  \"Parking space available. Veg quality is good. In non-veg, don't eat prawns. Low quality prawns are being served\"]\n",
            " [1.0\n",
            "  'Ambience make you feel good but not all food varieties, please avoid Biryanis here and also they served duplicate water bottles which very disappointed.']\n",
            " [1.0\n",
            "  'The ambiance of this restaurant is really warm and cozy. Located at the entrance of the ongole town (nearby D-mart). It is one of the most well known food places in ongole. …MoreThe ambiance of this restaurant is really warm and cozy. Located at the entrance of the ongole town (nearby D-mart). It is one of the most well known food places in ongole.My visit to this place during the pandemic time is not so good. The staff and the managers are well sanitised and put on masks and face shields. But the main negative is food is not upto the mark. It was somewhat bland and tasteless.We usually prefer this place, but that one earlier visit gave us a bad experience. Hope they can improve the food quality and get back soon.']\n",
            " [1.0\n",
            "  \"Parking space available. Veg quality is good. In non-veg, don't eat prawns. Low quality prawns are being served\"]\n",
            " [0.0 'Wonderful taste but costly...']\n",
            " [0.0\n",
            "  'Better than new restaurants in ongole..Good taste and Fresh items.']\n",
            " [0.0\n",
            "  'Worst food which I never tasted any where in Ongole .Road side food is better than this , ganesh who has taken the order very rude behaviour.']\n",
            " [1.0\n",
            "  'Very good service and taste of the food also good..... prize wise good....']\n",
            " [1.0\n",
            "  \"✓KB is One of the best in Ongole.Almost Everything is Good at KB.But not at all OutStanding & don't expect Very high.\"]\n",
            " [1.0\n",
            "  \"It's the good old KB in Ongole, the taste hasn't changed much (slowly going down though) and the biryani is the best still\"]\n",
            " [0.0\n",
            "  'good maintenance and ambience. polite staff . Not much of varieties. Makes nice family time']\n",
            " [0.0\n",
            "  \"It's famous in ongoleGood set upNice parking spaceNice place to have food with family\"]\n",
            " [1.0\n",
            "  \"Compression to other restaurants kb is heigher charger's NO discounts available in your restaurant and they do not giving any compliment service\"]\n",
            " [0.0\n",
            "  'Food here is tasty. People in Ongole mostly eat here.There are two branches.if you you are not from Ongole I suggest you can visit this place and have wonderful time here']\n",
            " [1.0\n",
            "  \"Worst service .. idiotic people at service counter ..They didn't know how to treat customer.. idiotic service\"]\n",
            " [0.0 'Good restaurant for veg n non veg foodie people.Great ambience']\n",
            " [1.0\n",
            "  \"We ordered roti & curry. Roti's were quite big, but fresh. Curries were not bad, need to improve.\"]\n",
            " [1.0\n",
            "  'I visited this place when travelling through Ongole... food is very good and hygenic here and their hospitality is very good..quantity also very good with affordable prices... I like this restaurant :)']\n",
            " [0.0 'Food taste is really good here. I like their ambience very much.']\n",
            " [1.0 'It has food and takeaway , parking, super maintenance,and bar']\n",
            " [0.0 'Taste is pleasent ,hormonial love t visit again']\n",
            " [1.0\n",
            "  'Worst food ever seen in my lifeAfter food heat and suply night. Observe every one who visit kb']\n",
            " [0.0\n",
            "  'Interior looks very cool and pleasant which will be very suitable for the families. Food taste will so good, but there will be delay in getting our order.']\n",
            " [1.0\n",
            "  'I ordered appollo fish and fry bit biryani along with Butter naan. Though appollo fish is a bit spicy but biryani and naan is pretty good.']\n",
            " [1.0\n",
            "  \"For ongole this is best for friend & familyParty's & quality so good\"]\n",
            " [1.0\n",
            "  \"It's k the food is better than other restaurants and quantity might be an issue but with this taste you can overcome that issue\"]\n",
            " [0.0\n",
            "  \"Once ongole 's famous family restaurant,Good for all kinds of nonveg food\"]\n",
            " [1.0\n",
            "  '1. Found lot of descrepency between price in menu and the bill (w/o gst).2. Service men keep on staring at us.']\n",
            " [1.0\n",
            "  \"I feel it's not an authentic Biryani. And the taste also average. But the side dish taste is pretty good. Good good inside space.  Looks neat and clean. I don't find any difference between pulav and Biryani here. But the Fry chicken and KB …MoreI feel it's not an authentic Biryani. And the taste also average. But the side dish taste is pretty good. Good good inside space.  Looks neat and clean. I don't find any difference between pulav and Biryani here. But the Fry chicken and KB spl chicken are good. Mutton Biryani would be better option compare to CB. Price is okay. Located in Ongole town ( Ongole to Nellore road near the bypass). Satisfied with the food but need to improve the Biryani taste.\"]\n",
            " [1.0 'Worest mutton biryani I was eated aver']\n",
            " [0.0 \"We are order Mutton biryani but it's very worst taste Not good\"]\n",
            " [1.0\n",
            "  'I ate chicken fry biryani it was so good and fresh ........the juisy pieces of chicken are ❤️......finally worthy of money ......']\n",
            " [1.0\n",
            "  'Wonderful place at locality.best food ever,very nice service and beautiful place nearby. Amazing bar and peaceful restaurant.I always want to go there and also prefer this to everyone. And the main thing is staying and rooms are very clean and fantastic with a best service.']\n",
            " [0.0 'Delay in service... Taste not up to the Mark']\n",
            " [1.0 'Nice 🏨 and nice food']\n",
            " [0.0 'Not so great chicken boneless biriyani for the price']\n",
            " [1.0\n",
            "  'Very late on take away. No hygiene in waiting area. And food also costly for that quantity and quality. Not recommended. What they serve is pulao , not briyani']\n",
            " [0.0 'Very good... Worth waiting for your turn']\n",
            " [0.0\n",
            "  'One of the worst place to have food,ambiance is not good,prices are high when compared to the quality of the food']\n",
            " [0.0\n",
            "  'The day we were here, everything was stale and cold. Very few items were available. (May be because of the pandemic )']\n",
            " [1.0\n",
            "  \"Every item has unique taste and very quality must visit place for foodie's\"]\n",
            " [1.0 'Good food 👍nice place to dine with family and friends']\n",
            " [0.0\n",
            "  'Previous maintenance and taste both were not available... Fully disappointed']\n",
            " [0.0\n",
            "  'Donot order chilly chicken ,it is very filthy taste .Chicken 555 is good.Senior staff are lazy to listen to you.']\n",
            " [0.0 'Super food 🍴🍕🍔awsome taste... The best restaurant in ongole town']\n",
            " [0.0 'Famous for sp biriyani']\n",
            " [0.0 'Over priced. Delay in service.Taste also is not that much good.']\n",
            " [0.0 'Very good and tasty food']\n",
            " [1.0 'Good place for both family and friends. .']\n",
            " [1.0\n",
            "  \"The cost of food in menu card differs from the bill which is more, not right!The service person not paying attention to us while talking to himWe don't think that we will visit again there.\"]\n",
            " [1.0 'Nice Restaurant 👍 Raesonble cost and good taste']\n",
            " [1.0\n",
            "  'KB East. Has great food and nice ambiance. Take away is really good. Sp Chicken fried rice and majestic chicken tasted great.']\n",
            " [1.0 'Taste is not good I will give 3star']\n",
            " [1.0 'Nice. Food is tasty. Service is good.']\n",
            " [1.0 'Not as expected.Need to enhance in all aspects.']\n",
            " [0.0 'Ganesh readymades']\n",
            " [0.0 'After lockdown i feel discomfort in maintenance ...']\n",
            " [0.0\n",
            "  'Food is not good yet, place is nice. Worth for one time visit only.']\n",
            " [0.0\n",
            "  'Food is not at all tasty even staters also very very worst in taste']\n",
            " [0.0 'Not bad but food taste is ok']\n",
            " [1.0 'Quality : Good ,tasty, less oilQuantity: ReasonableRoad side']\n",
            " [0.0 'Delicious food and comfortable ambience']\n",
            " [0.0 'I go regularly when I go to my native']\n",
            " [1.0 'Taste had changed no quality with no quantity']\n",
            " [1.0 'Good food n service.']\n",
            " [1.0 'Good place for hangouts and dine...']\n",
            " [1.0 'Best service and good food']\n",
            " [0.0 'Over spicy... No taste']\n",
            " [1.0\n",
            "  'KB East has been famous for non vegetarian food since long. However in recent times the quality of of the food is gradually coming down. Old reputation is still bringing people to the restaurant. Consistently the quality should be maintained.']\n",
            " [1.0\n",
            "  'Good place,all safety precautions taken during covid-19 and serves people with humble']\n",
            " [1.0 'U can see Stars 🌟🌟 in the bill']\n",
            " [1.0 'Very bad service and tasteless food to much of rates 🤮🤮🤮🤮🤮']\n",
            " [1.0 'Exlent food and Exlent Service...']\n",
            " [0.0 'Food is not worth the priceAmbience is good']\n",
            " [1.0 'Nice one...to relax an evening']\n",
            " [1.0 'The vintage of KB has been Missing from two to three years']\n",
            " [1.0\n",
            "  'A lot of varieties in the menu if not different but taste is good. Known for non vegetarian items as well as vegetarian items. Lots of items on the menu, most of the items are of good taste. Sufficient place for parking.. always crowded. …MoreA lot of varieties in the menu if not different but taste is good. Known for non vegetarian items as well as vegetarian items. Lots of items on the menu, most of the items are of good taste. Sufficient place for parking.. always crowded. Good service, good ambience for that town. Bar is also available on the first floor of the hotel with small closed rooms good enough for small parties to gather with friends for parties. Hospitality is good, service is good, ambience is good. Crowded at parcel section as well. Got different branches in the town and both are equally good in their own terms of quality, taste, items on the menu, service and ambience. Both the localities are of within reach and one can definitely get satisfied with the taste of the food. A good family restaurant with bar availability and small party gathering rooms availability .']\n",
            " [1.0 'Nice food and family going to the restarent']\n",
            " [1.0 'Service is not satisfactory tooo bad, ,']\n",
            " [1.0\n",
            "  'Food is below averageServing is very badNot satisfiedRates are too high']\n",
            " [1.0 'Worst food quality and service.']\n",
            " [0.0 'Not very good. It is okay.']\n",
            " [0.0 'Too much food cost low maintenance']\n",
            " [1.0 'Best restaurant in ongole']\n",
            " [0.0 'Bit tuff to find place for parking']\n",
            " [1.0 'Nice rrstuarant']\n",
            " [0.0 'Not set for family only drinkers help']\n",
            " [1.0 'Best place and nice view']\n",
            " [1.0 'Good nice food']\n",
            " [0.0 'Bad service, good food taste.']\n",
            " [0.0\n",
            "  'Good ambience..taste is upto the  mark..important thing is very reasonable price.polite staff..quick service....on the whole its awesome restaurant....']\n",
            " [1.0 'Soft and hot Drinks cost is very high.']\n",
            " [1.0\n",
            "  'Food is ok. Spacious but not very clean. You can enjoy north Indian dishes or Biryani. For  south Indian dishes please find some other restaurants. Parking is outside . Staff are not courteous.']\n",
            " [1.0\n",
            "  \"Food was good but even before our further order they have got us the finger bowl, so when asked the executive said that we were not ordering anything.. but actually we didn't complete the food on our plate... Disappointed\"]\n",
            " [1.0\n",
            "  \"One of the old Restaurant in Ongole, but with very low maintenance and bad hospitality. When it comes to the food they don't have enough quality and quantity to stay long on the top line. …MoreOne of the old Restaurant in Ongole, but with very low maintenance and bad hospitality. When it comes to the food they don't have enough quality and quantity to stay long on the top line.I Asked one person who took our order today. Can you taste the food which you gave me?He said what happened sir!!!I said it doesn't taste good and all chicken chunks smell bad.He sniffed and said, sir we can not take it back as they will deduct the money from our pocket , we felt so sorry for their mindset and paid the money and came away.No cleanliness and no taste in food at all.Bill Amount 740/- we Order chicken majestic and liquor.\"]\n",
            " [0.0\n",
            "  \"Very nice ambeince...good taste...polite staff ..quick service.prices are very reasonable....on the whole it's awesome .....\"]\n",
            " [1.0\n",
            "  'Ambience is good, maintenance is good. Needs to be improved in biryanis only. Snack items all are good.']\n",
            " [0.0 'Good food']\n",
            " [0.0 'food is nt good']\n",
            " [1.0\n",
            "  'Since 1990 up-to 2020 they maintaining same hygienic and good quality food especially in vegetarian food.']\n",
            " [0.0 'Avg not bad']]\n"
          ],
          "name": "stdout"
        }
      ]
    },
    {
      "cell_type": "code",
      "metadata": {
        "colab": {
          "base_uri": "https://localhost:8080/"
        },
        "id": "FrYAKilzJC0N",
        "outputId": "46dd70e7-dc3d-498c-e25f-54c4dd356cce"
      },
      "source": [
        "print((y_pred))"
      ],
      "execution_count": null,
      "outputs": [
        {
          "output_type": "stream",
          "text": [
            "[1. 1. 1. 1. 1. 1. 0. 0. 0. 1. 1. 1. 0. 0. 1. 0. 1. 0. 1. 1. 0. 1. 0. 1.\n",
            " 0. 1. 1. 1. 0. 1. 1. 1. 0. 1. 1. 0. 1. 0. 1. 0. 0. 0. 1. 1. 0. 0. 0. 0.\n",
            " 0. 0. 1. 1. 1. 1. 1. 1. 1. 0. 0. 0. 0. 0. 1. 0. 0. 1. 1. 1. 1. 0. 1. 1.\n",
            " 1. 1. 1. 0. 1. 1. 1. 1. 1. 1. 1. 0. 0. 1. 0. 1. 0. 1. 1. 0. 0. 1. 1. 1.\n",
            " 1. 0. 1. 0. 0. 1. 0.]\n"
          ],
          "name": "stdout"
        }
      ]
    },
    {
      "cell_type": "code",
      "metadata": {
        "id": "ePLligLHJOeP",
        "colab": {
          "base_uri": "https://localhost:8080/"
        },
        "outputId": "2bfa2e75-8357-4936-bd30-5d510e029c6e"
      },
      "source": [
        "print((sum(y_pred)/len(y_pred))*100) #percentage."
      ],
      "execution_count": null,
      "outputs": [
        {
          "output_type": "stream",
          "text": [
            "59.22330097087378\n"
          ],
          "name": "stdout"
        }
      ]
    }
  ]
}